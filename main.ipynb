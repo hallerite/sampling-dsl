{
 "cells": [
  {
   "cell_type": "markdown",
   "metadata": {},
   "source": [
    "# Domain Specific Language for Decoding\n",
    "\n",
    "frontier research labs that provide inference apis are too greedy to share their logits with us and are not up to date with the best sampling practices.\n",
    "\n",
    "we basically only get the temperature parameter to play around with and that's usually it. maybe also top_k if we are lucky.\n",
    "\n",
    "granted, even if we had the logits, having to do the decoding on our machine would be a throughput-nightmare (thanks to @stochasm for pointing this out). so what should we do?\n",
    "\n",
    "the answer was provided by @lun_aaaaa as an off-hand remark (I assume), but it's actually brilliant.\n",
    "\n",
    "I have decided to take that idea and propose to my knowledge the first domain specific language to define sampling behavior."
   ]
  },
  {
   "cell_type": "markdown",
   "metadata": {},
   "source": [
    "as of now, it only consists of 3 commands:\n",
    "\n",
    "- `sort`, which sorts the logit tensor (default is descending order, `sort +` for asc, `sort -` for desc)\n",
    "\n",
    "- `slice n:m`, which slices the logit tensor from the $n$-th to $m$-th index. this is implemented as masking the logits at the positions that are out of bounds\n",
    "\n",
    "- `threshold op n`, which masks all the logits that are above or belov the threshold (depending on `op`)"
   ]
  },
  {
   "cell_type": "markdown",
   "metadata": {},
   "source": [
    "we can create `top_k` sampling through this dsl code:\n",
    "\n",
    "```\n",
    "sort -\n",
    "slice k:\n",
    "```"
   ]
  },
  {
   "cell_type": "markdown",
   "metadata": {},
   "source": [
    "likewise, we can recover `min_p` through the following code:\n",
    "\n",
    "```\n",
    "theshold < p\n",
    "```"
   ]
  },
  {
   "cell_type": "markdown",
   "metadata": {},
   "source": [
    "# a first interpreter"
   ]
  },
  {
   "cell_type": "markdown",
   "metadata": {},
   "source": [
    "let's implement the primitives for our basic dsl"
   ]
  },
  {
   "cell_type": "code",
   "execution_count": 1,
   "metadata": {},
   "outputs": [],
   "source": [
    "import numpy as np"
   ]
  },
  {
   "cell_type": "code",
   "execution_count": 2,
   "metadata": {},
   "outputs": [],
   "source": [
    "def sort_logits(logits, order=\"-\"):\n",
    "    \"\"\"\n",
    "    Sort the logits tensor.\n",
    "    \n",
    "    Args:\n",
    "        logits (np.ndarray): The logits to sort.\n",
    "        order (str): \"+\" for ascending, \"-\" for descending (default).\n",
    "\n",
    "    Returns:\n",
    "        np.ndarray: Sorted logits.\n",
    "    \"\"\"\n",
    "    if order == \"-\":\n",
    "        return np.sort(logits)[::-1]\n",
    "    elif order == \"+\":\n",
    "        return np.sort(logits)\n",
    "    else:\n",
    "        raise ValueError(f\"Invalid order '{order}'. Use '+' or '-'.\")"
   ]
  },
  {
   "cell_type": "code",
   "execution_count": 3,
   "metadata": {},
   "outputs": [],
   "source": [
    "def slice_logits(logits, n=None, m=None):\n",
    "    \"\"\"\n",
    "    Slice logits from n-th to m-th index (masking out-of-bounds logits).\n",
    "    \n",
    "    Args:\n",
    "        logits (np.ndarray): The logits to slice.\n",
    "        n (int, optional): Start index (inclusive). Defaults to None (start from 0).\n",
    "        m (int, optional): End index (exclusive). Defaults to None (go to end).\n",
    "\n",
    "    Returns:\n",
    "        np.ndarray: Logits with out-of-bounds positions masked as -np.inf.\n",
    "    \"\"\"\n",
    "    if n is None:\n",
    "        n = 0\n",
    "    if m is None:\n",
    "        m = len(logits)\n",
    "    if n < 0 or m > len(logits) or n >= m:\n",
    "        raise ValueError(f\"Invalid slice range: {n}:{m} for logits of size {len(logits)}.\")\n",
    "    \n",
    "    mask = np.zeros_like(logits, dtype=bool)\n",
    "    mask[n:m] = True\n",
    "    return np.where(mask, logits, -np.inf)"
   ]
  },
  {
   "cell_type": "code",
   "execution_count": 4,
   "metadata": {},
   "outputs": [],
   "source": [
    "def threshold_logits(logits, op, value):\n",
    "    \"\"\"\n",
    "    Mask logits above or below a threshold.\n",
    "    \n",
    "    Args:\n",
    "        logits (np.ndarray): The logits to threshold.\n",
    "        op (str): Comparison operator, one of \"<\", \">\", \"<=\", \">=\".\n",
    "        value (float): Threshold value.\n",
    "\n",
    "    Returns:\n",
    "        np.ndarray: Logits with masked values as -np.inf.\n",
    "    \"\"\"\n",
    "    if op == \"<\":\n",
    "        return np.where(logits < value, -np.inf, logits)\n",
    "    elif op == \">\":\n",
    "        return np.where(logits > value, -np.inf, logits)\n",
    "    elif op == \"<=\":\n",
    "        return np.where(logits <= value, -np.inf, logits)\n",
    "    elif op == \">=\":\n",
    "        return np.where(logits >= value, -np.inf, logits)\n",
    "    else:\n",
    "        raise ValueError(f\"Invalid operator '{op}'. Use '<', '>', '<=', or '>='.\")"
   ]
  },
  {
   "cell_type": "markdown",
   "metadata": {},
   "source": [
    "now, let's build an interpreter. the idea is that every company can have their own interpreter under the hood, either in jax, pytorch or whatever they use. this is just a reference implementation (and a rudimentary one at that)."
   ]
  },
  {
   "cell_type": "code",
   "execution_count": 5,
   "metadata": {},
   "outputs": [],
   "source": [
    "def parse_dsl(dsl_string):\n",
    "    \"\"\"\n",
    "    Parse a DSL string into a list of commands.\n",
    "\n",
    "    Args:\n",
    "        dsl_string (str): The DSL string.\n",
    "\n",
    "    Returns:\n",
    "        list[str]: Parsed commands as individual strings.\n",
    "    \"\"\"\n",
    "    commands = [cmd.strip() for cmd in dsl_string.split(\"\\n\") if cmd.strip()]\n",
    "    return commands"
   ]
  },
  {
   "cell_type": "code",
   "execution_count": 11,
   "metadata": {},
   "outputs": [],
   "source": [
    "def interpret_dsl(logits, dsl_string):\n",
    "    \"\"\"\n",
    "    Parse and execute DSL commands to transform logits.\n",
    "\n",
    "    Args:\n",
    "        logits (np.ndarray): The logits to process.\n",
    "        dsl_string (str): A DSL string with multiple commands.\n",
    "\n",
    "    Returns:\n",
    "        np.ndarray: Transformed logits.\n",
    "    \"\"\"\n",
    "    commands = parse_dsl(dsl_string)\n",
    "\n",
    "    for command in commands:\n",
    "        parts = command.split()\n",
    "        cmd = parts[0]\n",
    "        \n",
    "        if cmd == \"sort\":\n",
    "            order = parts[1] if len(parts) > 1 else \"-\"\n",
    "            logits = sort_logits(logits, order)\n",
    "        \n",
    "        elif cmd == \"slice\":\n",
    "            n, m = parts[1].split(\":\")\n",
    "            n = int(n) if n else None\n",
    "            m = int(m) if m else None\n",
    "            logits = slice_logits(logits, n, m)\n",
    "        \n",
    "        elif cmd == \"threshold\":\n",
    "            op, value = parts[1], float(parts[2])\n",
    "            logits = threshold_logits(logits, op, value)\n",
    "        \n",
    "        else:\n",
    "            raise ValueError(f\"Unknown command: {cmd}\")\n",
    "    \n",
    "    return logits\n"
   ]
  },
  {
   "cell_type": "markdown",
   "metadata": {},
   "source": [
    "let's make sure `top_k` and `min_p` work"
   ]
  },
  {
   "cell_type": "code",
   "execution_count": 17,
   "metadata": {},
   "outputs": [],
   "source": [
    "top_3 = \"\"\"sort\n",
    "slice :3\"\"\"\n",
    "\n",
    "min_1 = \"threshold < 1\""
   ]
  },
  {
   "cell_type": "code",
   "execution_count": 18,
   "metadata": {},
   "outputs": [
    {
     "name": "stdout",
     "output_type": "stream",
     "text": [
      "original logits: [ 0.1  2.3  1.1  0.7 -1. ]\n",
      "top-3 logits: [ 2.3  1.1  0.7 -inf -inf]\n"
     ]
    }
   ],
   "source": [
    "logits = np.array([0.1, 2.3, 1.1, 0.7, -1.0])\n",
    "print(f\"original logits: {logits}\")\n",
    "\n",
    "result = interpret_dsl(logits, top_3)\n",
    "print(f\"top-3 logits: {result}\")"
   ]
  },
  {
   "cell_type": "code",
   "execution_count": 19,
   "metadata": {},
   "outputs": [
    {
     "name": "stdout",
     "output_type": "stream",
     "text": [
      "original logits: [ 0.1  2.3  1.1  0.7 -1. ]\n",
      "top-3 logits: [-inf  2.3  1.1 -inf -inf]\n"
     ]
    }
   ],
   "source": [
    "logits = np.array([0.1, 2.3, 1.1, 0.7, -1.0])\n",
    "print(f\"original logits: {logits}\")\n",
    "\n",
    "result = interpret_dsl(logits, min_1)\n",
    "print(f\"top-3 logits: {result}\")"
   ]
  },
  {
   "cell_type": "markdown",
   "metadata": {},
   "source": [
    "# what's next"
   ]
  },
  {
   "cell_type": "markdown",
   "metadata": {},
   "source": [
    "I coded this up at around 2am in 20 mins. there are a lot of things that are missing that I will be adding over next few days, if there is interest.\n",
    "\n",
    "a few things that seem reasonable:\n",
    "- add syntactic sugar for top_k, min_p and other widely used stuff\n",
    "- add more ops\n",
    "- add statefullness for beam-search and such\n",
    "    - perhaps working on logit matrix, not just latest logit array"
   ]
  }
 ],
 "metadata": {
  "kernelspec": {
   "display_name": "base",
   "language": "python",
   "name": "python3"
  },
  "language_info": {
   "codemirror_mode": {
    "name": "ipython",
    "version": 3
   },
   "file_extension": ".py",
   "mimetype": "text/x-python",
   "name": "python",
   "nbconvert_exporter": "python",
   "pygments_lexer": "ipython3",
   "version": "3.10.14"
  }
 },
 "nbformat": 4,
 "nbformat_minor": 2
}
